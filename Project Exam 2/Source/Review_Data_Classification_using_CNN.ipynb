{
  "nbformat": 4,
  "nbformat_minor": 0,
  "metadata": {
    "colab": {
      "name": "Review Data Classification using CNN.ipynb",
      "provenance": [],
      "collapsed_sections": []
    },
    "kernelspec": {
      "name": "python3",
      "display_name": "Python 3"
    },
    "accelerator": "GPU"
  },
  "cells": [
    {
      "cell_type": "code",
      "metadata": {
        "id": "_790sYuNNKTd",
        "colab_type": "code",
        "colab": {}
      },
      "source": [
        "import tensorflow as tf\n",
        "from tensorflow.keras.preprocessing.sequence import pad_sequences\n",
        "from tensorflow.keras.preprocessing.text import one_hot\n",
        "from tensorflow.keras.preprocessing.text import Tokenizer\n",
        "from tensorflow.keras.models import Sequential\n",
        "from tensorflow.keras.layers import Conv1D, Dense, MaxPool1D, Flatten, Dropout, Embedding\n",
        "from sklearn.metrics import accuracy_score\n",
        "import matplotlib.pyplot as plt"
      ],
      "execution_count": null,
      "outputs": []
    },
    {
      "cell_type": "code",
      "metadata": {
        "id": "GZfBHsu6Qm_s",
        "colab_type": "code",
        "colab": {}
      },
      "source": [
        "import pandas as pd\n",
        "import numpy as np"
      ],
      "execution_count": null,
      "outputs": []
    },
    {
      "cell_type": "code",
      "metadata": {
        "id": "iUWjjGWCQ4MZ",
        "colab_type": "code",
        "colab": {}
      },
      "source": [
        "train_df = pd.read_csv('/content/train.tsv', delimiter='\\t', encoding='utf-8')\n",
        "test_data_df = pd.read_csv('/content/test.tsv', delimiter='\\t', encoding='utf-8')\n",
        "test_label_df = pd.read_csv('/content/sampleSubmission.csv')"
      ],
      "execution_count": null,
      "outputs": []
    },
    {
      "cell_type": "code",
      "metadata": {
        "id": "yuwEkWipRgd_",
        "colab_type": "code",
        "colab": {
          "base_uri": "https://localhost:8080/",
          "height": 202
        },
        "outputId": "8f5a485b-f0e7-459d-84fc-df380ad0db4d"
      },
      "source": [
        "train_df.head()"
      ],
      "execution_count": null,
      "outputs": [
        {
          "output_type": "execute_result",
          "data": {
            "text/html": [
              "<div>\n",
              "<style scoped>\n",
              "    .dataframe tbody tr th:only-of-type {\n",
              "        vertical-align: middle;\n",
              "    }\n",
              "\n",
              "    .dataframe tbody tr th {\n",
              "        vertical-align: top;\n",
              "    }\n",
              "\n",
              "    .dataframe thead th {\n",
              "        text-align: right;\n",
              "    }\n",
              "</style>\n",
              "<table border=\"1\" class=\"dataframe\">\n",
              "  <thead>\n",
              "    <tr style=\"text-align: right;\">\n",
              "      <th></th>\n",
              "      <th>PhraseId</th>\n",
              "      <th>SentenceId</th>\n",
              "      <th>Phrase</th>\n",
              "      <th>Sentiment</th>\n",
              "    </tr>\n",
              "  </thead>\n",
              "  <tbody>\n",
              "    <tr>\n",
              "      <th>0</th>\n",
              "      <td>1</td>\n",
              "      <td>1</td>\n",
              "      <td>A series of escapades demonstrating the adage ...</td>\n",
              "      <td>1</td>\n",
              "    </tr>\n",
              "    <tr>\n",
              "      <th>1</th>\n",
              "      <td>2</td>\n",
              "      <td>1</td>\n",
              "      <td>A series of escapades demonstrating the adage ...</td>\n",
              "      <td>2</td>\n",
              "    </tr>\n",
              "    <tr>\n",
              "      <th>2</th>\n",
              "      <td>3</td>\n",
              "      <td>1</td>\n",
              "      <td>A series</td>\n",
              "      <td>2</td>\n",
              "    </tr>\n",
              "    <tr>\n",
              "      <th>3</th>\n",
              "      <td>4</td>\n",
              "      <td>1</td>\n",
              "      <td>A</td>\n",
              "      <td>2</td>\n",
              "    </tr>\n",
              "    <tr>\n",
              "      <th>4</th>\n",
              "      <td>5</td>\n",
              "      <td>1</td>\n",
              "      <td>series</td>\n",
              "      <td>2</td>\n",
              "    </tr>\n",
              "  </tbody>\n",
              "</table>\n",
              "</div>"
            ],
            "text/plain": [
              "   PhraseId  ...  Sentiment\n",
              "0         1  ...          1\n",
              "1         2  ...          2\n",
              "2         3  ...          2\n",
              "3         4  ...          2\n",
              "4         5  ...          2\n",
              "\n",
              "[5 rows x 4 columns]"
            ]
          },
          "metadata": {
            "tags": []
          },
          "execution_count": 4
        }
      ]
    },
    {
      "cell_type": "code",
      "metadata": {
        "id": "gdR5FI7MRmsD",
        "colab_type": "code",
        "colab": {
          "base_uri": "https://localhost:8080/",
          "height": 202
        },
        "outputId": "9805699f-7f4a-4f2f-e2a0-447c86dbf39b"
      },
      "source": [
        "test_data_df.head()"
      ],
      "execution_count": null,
      "outputs": [
        {
          "output_type": "execute_result",
          "data": {
            "text/html": [
              "<div>\n",
              "<style scoped>\n",
              "    .dataframe tbody tr th:only-of-type {\n",
              "        vertical-align: middle;\n",
              "    }\n",
              "\n",
              "    .dataframe tbody tr th {\n",
              "        vertical-align: top;\n",
              "    }\n",
              "\n",
              "    .dataframe thead th {\n",
              "        text-align: right;\n",
              "    }\n",
              "</style>\n",
              "<table border=\"1\" class=\"dataframe\">\n",
              "  <thead>\n",
              "    <tr style=\"text-align: right;\">\n",
              "      <th></th>\n",
              "      <th>PhraseId</th>\n",
              "      <th>SentenceId</th>\n",
              "      <th>Phrase</th>\n",
              "    </tr>\n",
              "  </thead>\n",
              "  <tbody>\n",
              "    <tr>\n",
              "      <th>0</th>\n",
              "      <td>156061</td>\n",
              "      <td>8545</td>\n",
              "      <td>An intermittently pleasing but mostly routine ...</td>\n",
              "    </tr>\n",
              "    <tr>\n",
              "      <th>1</th>\n",
              "      <td>156062</td>\n",
              "      <td>8545</td>\n",
              "      <td>An intermittently pleasing but mostly routine ...</td>\n",
              "    </tr>\n",
              "    <tr>\n",
              "      <th>2</th>\n",
              "      <td>156063</td>\n",
              "      <td>8545</td>\n",
              "      <td>An</td>\n",
              "    </tr>\n",
              "    <tr>\n",
              "      <th>3</th>\n",
              "      <td>156064</td>\n",
              "      <td>8545</td>\n",
              "      <td>intermittently pleasing but mostly routine effort</td>\n",
              "    </tr>\n",
              "    <tr>\n",
              "      <th>4</th>\n",
              "      <td>156065</td>\n",
              "      <td>8545</td>\n",
              "      <td>intermittently pleasing but mostly routine</td>\n",
              "    </tr>\n",
              "  </tbody>\n",
              "</table>\n",
              "</div>"
            ],
            "text/plain": [
              "   PhraseId  SentenceId                                             Phrase\n",
              "0    156061        8545  An intermittently pleasing but mostly routine ...\n",
              "1    156062        8545  An intermittently pleasing but mostly routine ...\n",
              "2    156063        8545                                                 An\n",
              "3    156064        8545  intermittently pleasing but mostly routine effort\n",
              "4    156065        8545         intermittently pleasing but mostly routine"
            ]
          },
          "metadata": {
            "tags": []
          },
          "execution_count": 5
        }
      ]
    },
    {
      "cell_type": "code",
      "metadata": {
        "id": "qAzpELx_RsC_",
        "colab_type": "code",
        "colab": {
          "base_uri": "https://localhost:8080/",
          "height": 202
        },
        "outputId": "6adc77f1-ef83-40ce-9aaf-70d4b15a8b6a"
      },
      "source": [
        "test_label_df.head()"
      ],
      "execution_count": null,
      "outputs": [
        {
          "output_type": "execute_result",
          "data": {
            "text/html": [
              "<div>\n",
              "<style scoped>\n",
              "    .dataframe tbody tr th:only-of-type {\n",
              "        vertical-align: middle;\n",
              "    }\n",
              "\n",
              "    .dataframe tbody tr th {\n",
              "        vertical-align: top;\n",
              "    }\n",
              "\n",
              "    .dataframe thead th {\n",
              "        text-align: right;\n",
              "    }\n",
              "</style>\n",
              "<table border=\"1\" class=\"dataframe\">\n",
              "  <thead>\n",
              "    <tr style=\"text-align: right;\">\n",
              "      <th></th>\n",
              "      <th>PhraseId</th>\n",
              "      <th>Sentiment</th>\n",
              "    </tr>\n",
              "  </thead>\n",
              "  <tbody>\n",
              "    <tr>\n",
              "      <th>0</th>\n",
              "      <td>156061</td>\n",
              "      <td>2</td>\n",
              "    </tr>\n",
              "    <tr>\n",
              "      <th>1</th>\n",
              "      <td>156062</td>\n",
              "      <td>2</td>\n",
              "    </tr>\n",
              "    <tr>\n",
              "      <th>2</th>\n",
              "      <td>156063</td>\n",
              "      <td>2</td>\n",
              "    </tr>\n",
              "    <tr>\n",
              "      <th>3</th>\n",
              "      <td>156064</td>\n",
              "      <td>2</td>\n",
              "    </tr>\n",
              "    <tr>\n",
              "      <th>4</th>\n",
              "      <td>156065</td>\n",
              "      <td>2</td>\n",
              "    </tr>\n",
              "  </tbody>\n",
              "</table>\n",
              "</div>"
            ],
            "text/plain": [
              "   PhraseId  Sentiment\n",
              "0    156061          2\n",
              "1    156062          2\n",
              "2    156063          2\n",
              "3    156064          2\n",
              "4    156065          2"
            ]
          },
          "metadata": {
            "tags": []
          },
          "execution_count": 6
        }
      ]
    },
    {
      "cell_type": "code",
      "metadata": {
        "id": "tHGyxqMtRxLv",
        "colab_type": "code",
        "colab": {}
      },
      "source": [
        "X_train = train_df.drop('Sentiment', axis=1)\n",
        "y_train = train_df['Sentiment']\n",
        "X_test = test_data_df\n",
        "y_test = test_label_df['Sentiment']"
      ],
      "execution_count": null,
      "outputs": []
    },
    {
      "cell_type": "code",
      "metadata": {
        "id": "mjeqLasYTpTn",
        "colab_type": "code",
        "colab": {
          "base_uri": "https://localhost:8080/",
          "height": 35
        },
        "outputId": "8c0fa5fe-5368-4b2f-e174-6223056179f2"
      },
      "source": [
        "X_test.shape"
      ],
      "execution_count": null,
      "outputs": [
        {
          "output_type": "execute_result",
          "data": {
            "text/plain": [
              "(66292, 3)"
            ]
          },
          "metadata": {
            "tags": []
          },
          "execution_count": 8
        }
      ]
    },
    {
      "cell_type": "code",
      "metadata": {
        "id": "2tWRKXGEXEiW",
        "colab_type": "code",
        "colab": {
          "base_uri": "https://localhost:8080/",
          "height": 104
        },
        "outputId": "54b5a563-7f77-436d-f52e-338d56de5552"
      },
      "source": [
        "import re\n",
        "import nltk\n",
        "import re\n",
        "from nltk.corpus import stopwords\n",
        "from nltk.stem import WordNetLemmatizer\n",
        "nltk.download('wordnet')\n",
        "nltk.download('stopwords')"
      ],
      "execution_count": null,
      "outputs": [
        {
          "output_type": "stream",
          "text": [
            "[nltk_data] Downloading package wordnet to /root/nltk_data...\n",
            "[nltk_data]   Package wordnet is already up-to-date!\n",
            "[nltk_data] Downloading package stopwords to /root/nltk_data...\n",
            "[nltk_data]   Package stopwords is already up-to-date!\n"
          ],
          "name": "stdout"
        },
        {
          "output_type": "execute_result",
          "data": {
            "text/plain": [
              "True"
            ]
          },
          "metadata": {
            "tags": []
          },
          "execution_count": 11
        }
      ]
    },
    {
      "cell_type": "code",
      "metadata": {
        "id": "kqYqZ-A_X8ol",
        "colab_type": "code",
        "colab": {}
      },
      "source": [
        "lemmatizer = WordNetLemmatizer()"
      ],
      "execution_count": null,
      "outputs": []
    },
    {
      "cell_type": "code",
      "metadata": {
        "id": "SnMMV_xAUY7D",
        "colab_type": "code",
        "colab": {}
      },
      "source": [
        "def clean_data(data):\n",
        "  review = re.sub('[^a-zA-Z]', ' ', data['Phrase'])\n",
        "  review = review.lower()\n",
        "  review = review.split()\n",
        "\n",
        "  review = [lemmatizer.lemmatize(word) for word in review if not word in stopwords.words('english')]\n",
        "  review = ' '.join(review)\n",
        "  return review"
      ],
      "execution_count": null,
      "outputs": []
    },
    {
      "cell_type": "code",
      "metadata": {
        "id": "AahkASS-Wly8",
        "colab_type": "code",
        "colab": {}
      },
      "source": [
        "train_corpus = []\n",
        "for i in range(0, len(X_train)):\n",
        "  train_corpus.append(clean_data(X_train.iloc[i,:]))"
      ],
      "execution_count": null,
      "outputs": []
    },
    {
      "cell_type": "code",
      "metadata": {
        "id": "TGQWwg1E_xmA",
        "colab_type": "code",
        "colab": {}
      },
      "source": [
        "test_corpus = []\n",
        "for i in range(0, len(X_test)):\n",
        "  test_corpus.append(clean_data(X_test.iloc[i,:]))"
      ],
      "execution_count": null,
      "outputs": []
    },
    {
      "cell_type": "code",
      "metadata": {
        "id": "0mg-ncUhW3Mo",
        "colab_type": "code",
        "colab": {}
      },
      "source": [
        "vocab_size = 20000"
      ],
      "execution_count": null,
      "outputs": []
    },
    {
      "cell_type": "code",
      "metadata": {
        "id": "x6YsxXIHZern",
        "colab_type": "code",
        "colab": {}
      },
      "source": [
        "from pandas import DataFrame\n",
        "train_data = DataFrame(train_corpus, columns=['Review'])\n",
        "test_data = DataFrame(test_corpus, columns=['Review'])"
      ],
      "execution_count": null,
      "outputs": []
    },
    {
      "cell_type": "code",
      "metadata": {
        "id": "yJXVC7iqY-tC",
        "colab_type": "code",
        "colab": {}
      },
      "source": [
        "tokenizer = Tokenizer(num_words=vocab_size, split=' ')\n",
        "tokenizer.fit_on_texts(train_data['Review'])\n",
        "tokenizer.fit_on_texts(test_data['Review'])"
      ],
      "execution_count": null,
      "outputs": []
    },
    {
      "cell_type": "code",
      "metadata": {
        "id": "CBPDmiw6ZTL9",
        "colab_type": "code",
        "colab": {}
      },
      "source": [
        "X_train = tokenizer.texts_to_sequences(train_data['Review'].values)\n",
        "X_train = pad_sequences(X_train, maxlen=30)"
      ],
      "execution_count": null,
      "outputs": []
    },
    {
      "cell_type": "code",
      "metadata": {
        "id": "alIoKAR8AIdB",
        "colab_type": "code",
        "colab": {}
      },
      "source": [
        "X_test = tokenizer.texts_to_sequences(test_data['Review'].values)\n",
        "X_test = pad_sequences(X_test, maxlen=30)"
      ],
      "execution_count": null,
      "outputs": []
    },
    {
      "cell_type": "code",
      "metadata": {
        "id": "4vcLP-0Val-D",
        "colab_type": "code",
        "colab": {}
      },
      "source": [
        "X_train = np.array(X_train)\n",
        "y_train = np.array(y_train)\n",
        "X_test = np.array(X_test)\n",
        "y_test = np.array(y_test)"
      ],
      "execution_count": null,
      "outputs": []
    },
    {
      "cell_type": "code",
      "metadata": {
        "id": "kC84jztcDAsW",
        "colab_type": "code",
        "colab": {
          "base_uri": "https://localhost:8080/",
          "height": 35
        },
        "outputId": "4d0747ac-3198-45d1-f96b-c5d0d5f56c22"
      },
      "source": [
        "y_test.shape"
      ],
      "execution_count": null,
      "outputs": [
        {
          "output_type": "execute_result",
          "data": {
            "text/plain": [
              "(66292,)"
            ]
          },
          "metadata": {
            "tags": []
          },
          "execution_count": 22
        }
      ]
    },
    {
      "cell_type": "code",
      "metadata": {
        "id": "GPQBCm-yaXz1",
        "colab_type": "code",
        "colab": {}
      },
      "source": [
        "# from sklearn.model_selection import train_test_split\n",
        "# X_train, X_test, y_train, y_test = train_test_split(X, y, test_size=0.2, random_state=42)"
      ],
      "execution_count": null,
      "outputs": []
    },
    {
      "cell_type": "code",
      "metadata": {
        "id": "xqf5erFfattK",
        "colab_type": "code",
        "colab": {}
      },
      "source": [
        "X_train = np.expand_dims(X_train, 2)\n",
        "X_test = np.expand_dims(X_test, 2)  "
      ],
      "execution_count": null,
      "outputs": []
    },
    {
      "cell_type": "code",
      "metadata": {
        "id": "E0qM1aqja4PY",
        "colab_type": "code",
        "colab": {
          "base_uri": "https://localhost:8080/",
          "height": 35
        },
        "outputId": "edc13e4a-ed49-49c9-be02-a4669d6affe4"
      },
      "source": [
        "from keras.utils import to_categorical\n",
        "y_train = to_categorical(y_train, 5)\n",
        "y_test = to_categorical(y_test, 5)"
      ],
      "execution_count": null,
      "outputs": [
        {
          "output_type": "stream",
          "text": [
            "Using TensorFlow backend.\n"
          ],
          "name": "stderr"
        }
      ]
    },
    {
      "cell_type": "code",
      "metadata": {
        "id": "SRlky__9DESe",
        "colab_type": "code",
        "colab": {
          "base_uri": "https://localhost:8080/",
          "height": 35
        },
        "outputId": "15a13069-83f5-4b71-d37b-3b13a1e27a34"
      },
      "source": [
        "y_test.shape"
      ],
      "execution_count": null,
      "outputs": [
        {
          "output_type": "execute_result",
          "data": {
            "text/plain": [
              "(66292, 5)"
            ]
          },
          "metadata": {
            "tags": []
          },
          "execution_count": 26
        }
      ]
    },
    {
      "cell_type": "code",
      "metadata": {
        "id": "pctGzZSrTjq8",
        "colab_type": "code",
        "colab": {
          "base_uri": "https://localhost:8080/",
          "height": 87
        },
        "outputId": "81df8eb2-dadb-47ec-a5b6-30f295cc2e50"
      },
      "source": [
        "# Checking the shape of the data before training the model\n",
        "print('Shape of X_train :', X_train.shape)\n",
        "print('Shape of y_train :', y_train.shape)\n",
        "print('Shape of X_test :', X_test.shape)\n",
        "print('Shape of y_test :', y_test.shape)"
      ],
      "execution_count": null,
      "outputs": [
        {
          "output_type": "stream",
          "text": [
            "Shape of X_train : (156060, 30, 1)\n",
            "Shape of y_train : (156060, 5)\n",
            "Shape of X_test : (66292, 30, 1)\n",
            "Shape of y_test : (66292, 5)\n"
          ],
          "name": "stdout"
        }
      ]
    },
    {
      "cell_type": "code",
      "metadata": {
        "id": "LtHgbcc4UDfn",
        "colab_type": "code",
        "colab": {}
      },
      "source": [
        "# CNN & Embedding layer configuration\n",
        "embedding_dim = 100\n",
        "num_filters = 8\n",
        "filter_size = 3\n",
        "pool_size = 1\n",
        "input_shape = (X_train.shape[1],1)\n",
        "input_length = X_train.shape[1]\n"
      ],
      "execution_count": null,
      "outputs": []
    },
    {
      "cell_type": "code",
      "metadata": {
        "id": "2eiLrLeKaGfN",
        "colab_type": "code",
        "colab": {}
      },
      "source": [
        "## CNN Model without Embedding Layer\n",
        "model = Sequential([\n",
        "  Conv1D(num_filters, filter_size, input_shape=input_shape),\n",
        "  MaxPool1D(pool_size=pool_size),\n",
        "  Flatten(),\n",
        "  Dense(5, activation='softmax'),\n",
        "])\n",
        "model.compile(\n",
        "  'adam',\n",
        "  loss='categorical_crossentropy',\n",
        "  metrics=['accuracy'],\n",
        ")"
      ],
      "execution_count": null,
      "outputs": []
    },
    {
      "cell_type": "code",
      "metadata": {
        "id": "FHOQw3iRaIYg",
        "colab_type": "code",
        "colab": {
          "base_uri": "https://localhost:8080/",
          "height": 295
        },
        "outputId": "82bd1762-0403-475c-82ae-b343f1b7ad6f"
      },
      "source": [
        "model.summary()"
      ],
      "execution_count": null,
      "outputs": [
        {
          "output_type": "stream",
          "text": [
            "Model: \"sequential\"\n",
            "_________________________________________________________________\n",
            "Layer (type)                 Output Shape              Param #   \n",
            "=================================================================\n",
            "conv1d (Conv1D)              (None, 28, 8)             32        \n",
            "_________________________________________________________________\n",
            "max_pooling1d (MaxPooling1D) (None, 28, 8)             0         \n",
            "_________________________________________________________________\n",
            "flatten (Flatten)            (None, 224)               0         \n",
            "_________________________________________________________________\n",
            "dense (Dense)                (None, 5)                 1125      \n",
            "=================================================================\n",
            "Total params: 1,157\n",
            "Trainable params: 1,157\n",
            "Non-trainable params: 0\n",
            "_________________________________________________________________\n"
          ],
          "name": "stdout"
        }
      ]
    },
    {
      "cell_type": "code",
      "metadata": {
        "id": "HfajGL0ea9qY",
        "colab_type": "code",
        "colab": {
          "base_uri": "https://localhost:8080/",
          "height": 364
        },
        "outputId": "9b19d0b3-2d39-4ac0-f9f9-18d3ef09f9bb"
      },
      "source": [
        "history = model.fit(X_train, y_train, validation_data=(X_test, y_test),epochs=10)"
      ],
      "execution_count": null,
      "outputs": [
        {
          "output_type": "stream",
          "text": [
            "Epoch 1/10\n",
            "4877/4877 [==============================] - 22s 5ms/step - loss: 18.8522 - accuracy: 0.4172 - val_loss: 10.1696 - val_accuracy: 0.7600\n",
            "Epoch 2/10\n",
            "4877/4877 [==============================] - 21s 4ms/step - loss: 8.4497 - accuracy: 0.4295 - val_loss: 4.7906 - val_accuracy: 0.5705\n",
            "Epoch 3/10\n",
            "4877/4877 [==============================] - 21s 4ms/step - loss: 4.0023 - accuracy: 0.4500 - val_loss: 1.9107 - val_accuracy: 0.6354\n",
            "Epoch 4/10\n",
            "4877/4877 [==============================] - 21s 4ms/step - loss: 1.8459 - accuracy: 0.4772 - val_loss: 0.8146 - val_accuracy: 0.8751\n",
            "Epoch 5/10\n",
            "4877/4877 [==============================] - 21s 4ms/step - loss: 1.3454 - accuracy: 0.5001 - val_loss: 0.6738 - val_accuracy: 0.9552\n",
            "Epoch 6/10\n",
            "4877/4877 [==============================] - 21s 4ms/step - loss: 1.3274 - accuracy: 0.5026 - val_loss: 0.7609 - val_accuracy: 0.8999\n",
            "Epoch 7/10\n",
            "4877/4877 [==============================] - 21s 4ms/step - loss: 1.3230 - accuracy: 0.5021 - val_loss: 1.0764 - val_accuracy: 0.7797\n",
            "Epoch 8/10\n",
            "4877/4877 [==============================] - 21s 4ms/step - loss: 1.3265 - accuracy: 0.5026 - val_loss: 0.8539 - val_accuracy: 0.8640\n",
            "Epoch 9/10\n",
            "4877/4877 [==============================] - 21s 4ms/step - loss: 1.3225 - accuracy: 0.5020 - val_loss: 0.7470 - val_accuracy: 0.8730\n",
            "Epoch 10/10\n",
            "4877/4877 [==============================] - 21s 4ms/step - loss: 1.3173 - accuracy: 0.5036 - val_loss: 0.6901 - val_accuracy: 0.8919\n"
          ],
          "name": "stdout"
        }
      ]
    },
    {
      "cell_type": "code",
      "metadata": {
        "id": "kwbWSnsoczAA",
        "colab_type": "code",
        "colab": {
          "base_uri": "https://localhost:8080/",
          "height": 69
        },
        "outputId": "df0d393b-4559-4842-b632-8f452d1d9863"
      },
      "source": [
        "# Loss And Accuracy values - Without Embedding Layer\n",
        "loss,acc = model.evaluate(X_test, y_test)\n",
        "print('Test accuracy without Embedding Layer: ', acc)\n",
        "print('Test Loss without Embedding Layer: ', loss)"
      ],
      "execution_count": null,
      "outputs": [
        {
          "output_type": "stream",
          "text": [
            "2072/2072 [==============================] - 6s 3ms/step - loss: 0.6901 - accuracy: 0.8919\n",
            "Test accuracy without Embedding Layer:  0.8919175863265991\n",
            "Test Loss without Embedding Layer:  0.6900688409805298\n"
          ],
          "name": "stdout"
        }
      ]
    },
    {
      "cell_type": "code",
      "metadata": {
        "id": "dsZsYv9he6ko",
        "colab_type": "code",
        "colab": {}
      },
      "source": [
        "# Adding Embedding layer to Model\n",
        "model1 = Sequential([\n",
        "  Embedding(vocab_size, embedding_dim, input_length=input_length),\n",
        "  Conv1D(num_filters, filter_size, input_shape=input_shape),\n",
        "  MaxPool1D(pool_size=pool_size),\n",
        "  Flatten(),\n",
        "  Dense(5, activation='softmax'),\n",
        "])\n",
        "model1.compile(\n",
        "  'adam',\n",
        "  loss='categorical_crossentropy',\n",
        "  metrics=['accuracy'],\n",
        ")"
      ],
      "execution_count": null,
      "outputs": []
    },
    {
      "cell_type": "code",
      "metadata": {
        "id": "DIWvrEOQft45",
        "colab_type": "code",
        "colab": {
          "base_uri": "https://localhost:8080/",
          "height": 329
        },
        "outputId": "3c42e6ac-1652-4ddb-f980-50aebabce438"
      },
      "source": [
        "model1.summary()"
      ],
      "execution_count": null,
      "outputs": [
        {
          "output_type": "stream",
          "text": [
            "Model: \"sequential_1\"\n",
            "_________________________________________________________________\n",
            "Layer (type)                 Output Shape              Param #   \n",
            "=================================================================\n",
            "embedding (Embedding)        (None, 30, 100)           2000000   \n",
            "_________________________________________________________________\n",
            "conv1d_1 (Conv1D)            (None, 28, 8)             2408      \n",
            "_________________________________________________________________\n",
            "max_pooling1d_1 (MaxPooling1 (None, 28, 8)             0         \n",
            "_________________________________________________________________\n",
            "flatten_1 (Flatten)          (None, 224)               0         \n",
            "_________________________________________________________________\n",
            "dense_1 (Dense)              (None, 5)                 1125      \n",
            "=================================================================\n",
            "Total params: 2,003,533\n",
            "Trainable params: 2,003,533\n",
            "Non-trainable params: 0\n",
            "_________________________________________________________________\n"
          ],
          "name": "stdout"
        }
      ]
    },
    {
      "cell_type": "code",
      "metadata": {
        "id": "jVN3F4f3fxG5",
        "colab_type": "code",
        "colab": {
          "base_uri": "https://localhost:8080/",
          "height": 364
        },
        "outputId": "1acf5008-654b-4c8e-f097-044200ba4e65"
      },
      "source": [
        "history1 = model1.fit(X_train, y_train, validation_data=(X_test, y_test),epochs=10)"
      ],
      "execution_count": null,
      "outputs": [
        {
          "output_type": "stream",
          "text": [
            "Epoch 1/10\n",
            "4877/4877 [==============================] - 99s 20ms/step - loss: 0.9644 - accuracy: 0.6115 - val_loss: 0.9183 - val_accuracy: 0.6801\n",
            "Epoch 2/10\n",
            "4877/4877 [==============================] - 99s 20ms/step - loss: 0.7937 - accuracy: 0.6782 - val_loss: 1.0105 - val_accuracy: 0.6404\n",
            "Epoch 3/10\n",
            "4877/4877 [==============================] - 99s 20ms/step - loss: 0.7314 - accuracy: 0.7016 - val_loss: 1.0271 - val_accuracy: 0.6414\n",
            "Epoch 4/10\n",
            "4877/4877 [==============================] - 99s 20ms/step - loss: 0.6936 - accuracy: 0.7155 - val_loss: 1.1366 - val_accuracy: 0.6176\n",
            "Epoch 5/10\n",
            "4877/4877 [==============================] - 99s 20ms/step - loss: 0.6663 - accuracy: 0.7253 - val_loss: 0.9954 - val_accuracy: 0.6615\n",
            "Epoch 6/10\n",
            "4877/4877 [==============================] - 99s 20ms/step - loss: 0.6462 - accuracy: 0.7334 - val_loss: 1.1016 - val_accuracy: 0.6325\n",
            "Epoch 7/10\n",
            "4877/4877 [==============================] - 99s 20ms/step - loss: 0.6308 - accuracy: 0.7390 - val_loss: 1.0133 - val_accuracy: 0.6622\n",
            "Epoch 8/10\n",
            "4877/4877 [==============================] - 99s 20ms/step - loss: 0.6177 - accuracy: 0.7444 - val_loss: 1.1415 - val_accuracy: 0.6293\n",
            "Epoch 9/10\n",
            "4877/4877 [==============================] - 99s 20ms/step - loss: 0.6075 - accuracy: 0.7475 - val_loss: 1.1675 - val_accuracy: 0.6219\n",
            "Epoch 10/10\n",
            "4877/4877 [==============================] - 99s 20ms/step - loss: 0.5986 - accuracy: 0.7496 - val_loss: 1.0935 - val_accuracy: 0.6531\n"
          ],
          "name": "stdout"
        }
      ]
    },
    {
      "cell_type": "code",
      "metadata": {
        "id": "H18mOIopf6J0",
        "colab_type": "code",
        "colab": {
          "base_uri": "https://localhost:8080/",
          "height": 69
        },
        "outputId": "3f25ff16-4289-4711-97cc-86731e254b1c"
      },
      "source": [
        "# Loss And Accuracy values - with Embedding Layer\n",
        "loss1,acc1 = model1.evaluate(X_test, y_test)\n",
        "print('Test accuracy after adding Embedding Layer: ', acc1)\n",
        "print('Test Loss after adding Embedding Layer: ', loss1)"
      ],
      "execution_count": null,
      "outputs": [
        {
          "output_type": "stream",
          "text": [
            "2072/2072 [==============================] - 7s 3ms/step - loss: 1.0935 - accuracy: 0.6531\n",
            "Test accuracy after adding Embedding Layer:  0.6531255841255188\n",
            "Test Loss after adding Embedding Layer:  1.0934909582138062\n"
          ],
          "name": "stdout"
        }
      ]
    },
    {
      "cell_type": "code",
      "metadata": {
        "id": "1kPs63CnCOFo",
        "colab_type": "code",
        "colab": {
          "base_uri": "https://localhost:8080/",
          "height": 295
        },
        "outputId": "a8b811c3-919d-46ae-b9ef-ec5803b8649e"
      },
      "source": [
        "# Loss Plot - after adding Embedding Layer\n",
        "plt.plot(history1.history['loss'])\n",
        "plt.plot(history1.history['val_loss'])\n",
        "plt.title('Model Loss')\n",
        "plt.ylabel('Losss')\n",
        "plt.xlabel('Epoch')\n",
        "plt.legend(['train', 'validation'], loc='upper right')\n",
        "plt.show()"
      ],
      "execution_count": null,
      "outputs": [
        {
          "output_type": "display_data",
          "data": {
            "image/png": "[encoded data removed]",
            "text/plain": [
              "<Figure size 432x288 with 1 Axes>"
            ]
          },
          "metadata": {
            "tags": [],
            "needs_background": "light"
          }
        }
      ]
    },
    {
      "cell_type": "code",
      "metadata": {
        "id": "lYWoI531C6E0",
        "colab_type": "code",
        "colab": {}
      },
      "source": [
        "# Adding DropOut layer to Model\n",
        "\n",
        "model2 = Sequential([\n",
        "  Embedding(vocab_size, embedding_dim, input_length= input_length),\n",
        "  Conv1D(num_filters, filter_size, input_shape=input_shape),\n",
        "  Dropout(0.5),\n",
        "  MaxPool1D(pool_size=pool_size),\n",
        "  Dropout(0.5),\n",
        "  Flatten(),\n",
        "  Dense(5, activation='softmax'),\n",
        "])\n",
        "model2.compile(\n",
        "  'adam',\n",
        "  loss='categorical_crossentropy',\n",
        "  metrics=['accuracy'],\n",
        ")"
      ],
      "execution_count": null,
      "outputs": []
    },
    {
      "cell_type": "code",
      "metadata": {
        "id": "4PSCLNryHa8m",
        "colab_type": "code",
        "colab": {
          "base_uri": "https://localhost:8080/",
          "height": 399
        },
        "outputId": "3877f27a-4c2d-4b97-ccc5-0dcf78fe0ed9"
      },
      "source": [
        "model2.summary()"
      ],
      "execution_count": null,
      "outputs": [
        {
          "output_type": "stream",
          "text": [
            "Model: \"sequential_2\"\n",
            "_________________________________________________________________\n",
            "Layer (type)                 Output Shape              Param #   \n",
            "=================================================================\n",
            "embedding_1 (Embedding)      (None, 30, 100)           2000000   \n",
            "_________________________________________________________________\n",
            "conv1d_2 (Conv1D)            (None, 28, 8)             2408      \n",
            "_________________________________________________________________\n",
            "dropout (Dropout)            (None, 28, 8)             0         \n",
            "_________________________________________________________________\n",
            "max_pooling1d_2 (MaxPooling1 (None, 28, 8)             0         \n",
            "_________________________________________________________________\n",
            "dropout_1 (Dropout)          (None, 28, 8)             0         \n",
            "_________________________________________________________________\n",
            "flatten_2 (Flatten)          (None, 224)               0         \n",
            "_________________________________________________________________\n",
            "dense_2 (Dense)              (None, 5)                 1125      \n",
            "=================================================================\n",
            "Total params: 2,003,533\n",
            "Trainable params: 2,003,533\n",
            "Non-trainable params: 0\n",
            "_________________________________________________________________\n"
          ],
          "name": "stdout"
        }
      ]
    },
    {
      "cell_type": "code",
      "metadata": {
        "id": "Ql_mjv9RHcoP",
        "colab_type": "code",
        "colab": {
          "base_uri": "https://localhost:8080/",
          "height": 364
        },
        "outputId": "4bf4e206-46cb-459e-96f3-3774e52e37aa"
      },
      "source": [
        "history2 = model2.fit(X_train, y_train, validation_data=(X_test, y_test),epochs=10)"
      ],
      "execution_count": null,
      "outputs": [
        {
          "output_type": "stream",
          "text": [
            "Epoch 1/10\n",
            "4877/4877 [==============================] - 98s 20ms/step - loss: 1.1023 - accuracy: 0.5649 - val_loss: 0.9106 - val_accuracy: 0.7024\n",
            "Epoch 2/10\n",
            "4877/4877 [==============================] - 97s 20ms/step - loss: 0.9663 - accuracy: 0.6133 - val_loss: 0.8725 - val_accuracy: 0.7064\n",
            "Epoch 3/10\n",
            "4877/4877 [==============================] - 98s 20ms/step - loss: 0.9340 - accuracy: 0.6262 - val_loss: 0.8884 - val_accuracy: 0.7015\n",
            "Epoch 4/10\n",
            "4877/4877 [==============================] - 98s 20ms/step - loss: 0.9178 - accuracy: 0.6316 - val_loss: 0.9148 - val_accuracy: 0.6945\n",
            "Epoch 5/10\n",
            "4877/4877 [==============================] - 97s 20ms/step - loss: 0.9038 - accuracy: 0.6372 - val_loss: 0.8828 - val_accuracy: 0.7076\n",
            "Epoch 6/10\n",
            "4877/4877 [==============================] - 98s 20ms/step - loss: 0.8963 - accuracy: 0.6409 - val_loss: 0.9045 - val_accuracy: 0.6982\n",
            "Epoch 7/10\n",
            "4877/4877 [==============================] - 99s 20ms/step - loss: 0.8890 - accuracy: 0.6424 - val_loss: 0.9213 - val_accuracy: 0.6939\n",
            "Epoch 8/10\n",
            "4877/4877 [==============================] - 98s 20ms/step - loss: 0.8850 - accuracy: 0.6458 - val_loss: 0.9300 - val_accuracy: 0.6890\n",
            "Epoch 9/10\n",
            "4877/4877 [==============================] - 97s 20ms/step - loss: 0.8809 - accuracy: 0.6457 - val_loss: 0.8883 - val_accuracy: 0.7092\n",
            "Epoch 10/10\n",
            "4877/4877 [==============================] - 98s 20ms/step - loss: 0.8773 - accuracy: 0.6475 - val_loss: 0.8892 - val_accuracy: 0.7091\n"
          ],
          "name": "stdout"
        }
      ]
    },
    {
      "cell_type": "code",
      "metadata": {
        "id": "WEnWPescJbRu",
        "colab_type": "code",
        "colab": {
          "base_uri": "https://localhost:8080/",
          "height": 69
        },
        "outputId": "c68d5864-f2f0-4e52-df45-7d5541ad8ca3"
      },
      "source": [
        "# Loss And Accuracy values - Adding Dropout Layer\n",
        "loss2,acc2 = model2.evaluate(X_test, y_test)\n",
        "print('Test accuracy after adding Dropout Layer: ', acc2)\n",
        "print('Test Loss after adding Dropout Layer: ', loss2)"
      ],
      "execution_count": null,
      "outputs": [
        {
          "output_type": "stream",
          "text": [
            "2072/2072 [==============================] - 7s 3ms/step - loss: 0.8892 - accuracy: 0.7091\n",
            "Test accuracy after adding Dropout Layer:  0.7091202735900879\n",
            "Test Loss after adding Dropout Layer:  0.88917076587677\n"
          ],
          "name": "stdout"
        }
      ]
    },
    {
      "cell_type": "code",
      "metadata": {
        "id": "RwTnTAgXH8_v",
        "colab_type": "code",
        "colab": {
          "base_uri": "https://localhost:8080/"
        },
        "outputId": "4583a03f-9f48-4f25-8c5d-91fd68267ae5"
      },
      "source": [
        "# Loss Plot - after adding Dropout Layer\n",
        "plt.plot(history2.history['loss'])\n",
        "plt.plot(history2.history['val_loss'])\n",
        "plt.title('Model Loss')\n",
        "plt.ylabel('Losss')\n",
        "plt.xlabel('Epoch')\n",
        "plt.legend(['train', 'validation'], loc='upper right')\n",
        "plt.show()"
      ],
      "execution_count": null,
      "outputs": [
        {
          "output_type": "display_data",
          "data": {
            "image/png": "[encoded data removed]",
            "text/plain": [
              "<Figure size 432x288 with 1 Axes>"
            ]
          },
          "metadata": {
            "tags": [],
            "needs_background": "light"
          }
        }
      ]
    },
    {
      "cell_type": "code",
      "metadata": {
        "id": "J1yvPC6vJWeV",
        "colab_type": "code",
        "colab": {}
      },
      "source": [
        ""
      ],
      "execution_count": null,
      "outputs": []
    }
  ]
}