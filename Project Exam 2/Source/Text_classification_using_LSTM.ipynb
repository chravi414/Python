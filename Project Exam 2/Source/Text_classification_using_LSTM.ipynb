{
  "nbformat": 4,
  "nbformat_minor": 0,
  "metadata": {
    "colab": {
      "name": "part2.ipynb",
      "provenance": [],
      "collapsed_sections": []
    },
    "kernelspec": {
      "name": "python3",
      "display_name": "Python 3"
    }
  },
  "cells": [
    {
      "cell_type": "code",
      "metadata": {
        "id": "dN_oUDmagCtm",
        "colab_type": "code",
        "colab": {
          "base_uri": "https://localhost:8080/",
          "height": 34
        },
        "outputId": "34f65c1c-1d34-4079-f280-120d1eac2c33"
      },
      "source": [
        "from sklearn.datasets import fetch_20newsgroups\n",
        "from keras.preprocessing.text import Tokenizer\n",
        "from keras.preprocessing.sequence import pad_sequences\n",
        "import keras\n",
        "from keras.layers import Embedding, Dense, LSTM, GRU\n",
        "from keras.models import Sequential\n",
        "from sklearn.model_selection import train_test_split, StratifiedShuffleSplit\n",
        "import string"
      ],
      "execution_count": null,
      "outputs": [
        {
          "output_type": "stream",
          "text": [
            "Using TensorFlow backend.\n"
          ],
          "name": "stderr"
        }
      ]
    },
    {
      "cell_type": "code",
      "metadata": {
        "id": "l4xJCVZWgNem",
        "colab_type": "code",
        "colab": {}
      },
      "source": [
        "categories = ['comp.sys.mac.hardware',\n",
        " 'comp.windows.x',\n",
        " 'misc.forsale',\n",
        " 'rec.autos',\n",
        "'soc.religion.christian',\n",
        " 'talk.politics.guns',\n",
        " 'talk.politics.mideast']\n",
        "# Prepare train and test data\n",
        "data = fetch_20newsgroups(shuffle=True, subset='train', categories=categories)\n",
        "test = fetch_20newsgroups(shuffle=True, subset='test', categories=categories)\n",
        "news, news_topics, _classes = data.data, data.target, data.target_names"
      ],
      "execution_count": null,
      "outputs": []
    },
    {
      "cell_type": "code",
      "metadata": {
        "id": "0EVSbydYgPLY",
        "colab_type": "code",
        "colab": {}
      },
      "source": [
        "# Tokenize the sentences into words (2000)\n",
        "words = 10000\n",
        "tokenizer = Tokenizer(num_words=words)\n",
        "tokenizer.fit_on_texts(news)\n",
        "sequences = Tokenizer.texts_to_sequences(tokenizer, news)"
      ],
      "execution_count": null,
      "outputs": []
    },
    {
      "cell_type": "code",
      "metadata": {
        "id": "pJgyK28Uga6L",
        "colab_type": "code",
        "colab": {
          "base_uri": "https://localhost:8080/",
          "height": 67
        },
        "outputId": "99cb9782-446b-4330-81a8-bc029f6ff381"
      },
      "source": [
        "word_index = tokenizer.word_index\n",
        "print('Found %s unique tokens.' % len(word_index))\n",
        "max_length = 1000\n",
        "X = pad_sequences(sequences, maxlen=max_length)\n",
        "Y = keras.utils.to_categorical(news_topics)\n",
        "\n",
        "print('Shape of data tensor:', X.shape)\n",
        "print('Shape of label tensor:', Y.shape)"
      ],
      "execution_count": null,
      "outputs": [
        {
          "output_type": "stream",
          "text": [
            "Found 55199 unique tokens.\n",
            "Shape of data tensor: (4059, 1000)\n",
            "Shape of label tensor: (4059, 7)\n"
          ],
          "name": "stdout"
        }
      ]
    },
    {
      "cell_type": "code",
      "metadata": {
        "id": "ifLgSIcZgfc3",
        "colab_type": "code",
        "colab": {
          "base_uri": "https://localhost:8080/",
          "height": 34
        },
        "outputId": "1efc71ed-6ffa-42e6-a590-b3789f83fb32"
      },
      "source": [
        "X_train, X_valid, y_train, y_valid = train_test_split(X, Y, test_size=0.2)\n",
        "len(word_index)"
      ],
      "execution_count": null,
      "outputs": [
        {
          "output_type": "execute_result",
          "data": {
            "text/plain": [
              "55199"
            ]
          },
          "metadata": {
            "tags": []
          },
          "execution_count": 5
        }
      ]
    },
    {
      "cell_type": "code",
      "metadata": {
        "id": "5G1m7wE_gnj8",
        "colab_type": "code",
        "colab": {
          "base_uri": "https://localhost:8080/",
          "height": 302
        },
        "outputId": "1852a730-0f43-4a8d-cfb9-dd38df38ec57"
      },
      "source": [
        "embedding_length = 64\n",
        "model = Sequential()\n",
        "model.add(LSTM(100, return_sequences=True,input_shape=(1, max_length)))\n",
        "model.add(LSTM(100, dropout_W=0.25))\n",
        "model.add(Dense(7, activation='softmax'))\n",
        "model.compile(loss='binary_crossentropy', optimizer='adam', metrics=['accuracy'])\n",
        "print(model.summary())"
      ],
      "execution_count": null,
      "outputs": [
        {
          "output_type": "stream",
          "text": [
            "/usr/local/lib/python3.6/dist-packages/ipykernel_launcher.py:4: UserWarning: Update your `LSTM` call to the Keras 2 API: `LSTM(100, dropout=0.25)`\n",
            "  after removing the cwd from sys.path.\n"
          ],
          "name": "stderr"
        },
        {
          "output_type": "stream",
          "text": [
            "Model: \"sequential_1\"\n",
            "_________________________________________________________________\n",
            "Layer (type)                 Output Shape              Param #   \n",
            "=================================================================\n",
            "lstm_1 (LSTM)                (None, 1, 100)            440400    \n",
            "_________________________________________________________________\n",
            "lstm_2 (LSTM)                (None, 100)               80400     \n",
            "_________________________________________________________________\n",
            "dense_1 (Dense)              (None, 7)                 707       \n",
            "=================================================================\n",
            "Total params: 521,507\n",
            "Trainable params: 521,507\n",
            "Non-trainable params: 0\n",
            "_________________________________________________________________\n",
            "None\n"
          ],
          "name": "stdout"
        }
      ]
    },
    {
      "cell_type": "code",
      "metadata": {
        "id": "ht7O2PjUhBH-",
        "colab_type": "code",
        "colab": {
          "base_uri": "https://localhost:8080/",
          "height": 34
        },
        "outputId": "86ac7fcf-41ca-4e6b-b0d7-7cab40301205"
      },
      "source": [
        "X_train.shape, y_train.shape, X_valid.shape, y_valid.shape"
      ],
      "execution_count": null,
      "outputs": [
        {
          "output_type": "execute_result",
          "data": {
            "text/plain": [
              "((3247, 1000), (3247, 7), (812, 1000), (812, 7))"
            ]
          },
          "metadata": {
            "tags": []
          },
          "execution_count": 7
        }
      ]
    },
    {
      "cell_type": "code",
      "metadata": {
        "id": "847putDahlZC",
        "colab_type": "code",
        "colab": {
          "base_uri": "https://localhost:8080/",
          "height": 34
        },
        "outputId": "fe1aa397-4764-43a8-883f-181e4ba4770e"
      },
      "source": [
        "import numpy as np\n",
        "X_train = np.reshape(X_train, (X_train.shape[0], 1 , X_train.shape[1]))\n",
        "X_valid = np.reshape(X_valid, (X_valid.shape[0], 1, X_valid.shape[1]))\n",
        "# ytrain = np.reshape(ytrain, (ytrain.shape[0], , ytrain.shape[1]))\n",
        "# yvalid = np.reshape(yvalid, (yvalid.shape[0], 1, yvalid.shape[1]))\n",
        "\n",
        "X_train.shape, y_train.shape, X_valid.shape, y_valid.shape"
      ],
      "execution_count": null,
      "outputs": [
        {
          "output_type": "execute_result",
          "data": {
            "text/plain": [
              "((3247, 1, 1000), (3247, 7), (812, 1, 1000), (812, 7))"
            ]
          },
          "metadata": {
            "tags": []
          },
          "execution_count": 8
        }
      ]
    },
    {
      "cell_type": "code",
      "metadata": {
        "id": "x2h-hIwrhbCV",
        "colab_type": "code",
        "colab": {
          "base_uri": "https://localhost:8080/",
          "height": 706
        },
        "outputId": "73f9c448-1473-4b40-f51a-622e73548e06"
      },
      "source": [
        "history=model.fit(X_train, y_train, epochs=20,verbose=True, validation_data=(X_valid,y_valid), batch_size=64)"
      ],
      "execution_count": null,
      "outputs": [
        {
          "output_type": "stream",
          "text": [
            "Train on 3247 samples, validate on 812 samples\n",
            "Epoch 1/20\n",
            "3247/3247 [==============================] - 2s 477us/step - loss: 0.4099 - accuracy: 0.8571 - val_loss: 0.4082 - val_accuracy: 0.8571\n",
            "Epoch 2/20\n",
            "3247/3247 [==============================] - 1s 235us/step - loss: 0.4055 - accuracy: 0.8571 - val_loss: 0.4042 - val_accuracy: 0.8571\n",
            "Epoch 3/20\n",
            "3247/3247 [==============================] - 1s 233us/step - loss: 0.3998 - accuracy: 0.8571 - val_loss: 0.3978 - val_accuracy: 0.8571\n",
            "Epoch 4/20\n",
            "3247/3247 [==============================] - 1s 232us/step - loss: 0.3966 - accuracy: 0.8571 - val_loss: 0.3972 - val_accuracy: 0.8571\n",
            "Epoch 5/20\n",
            "3247/3247 [==============================] - 1s 239us/step - loss: 0.3934 - accuracy: 0.8572 - val_loss: 0.3949 - val_accuracy: 0.8571\n",
            "Epoch 6/20\n",
            "3247/3247 [==============================] - 1s 229us/step - loss: 0.3928 - accuracy: 0.8571 - val_loss: 0.3968 - val_accuracy: 0.8571\n",
            "Epoch 7/20\n",
            "3247/3247 [==============================] - 1s 228us/step - loss: 0.3917 - accuracy: 0.8571 - val_loss: 0.3953 - val_accuracy: 0.8571\n",
            "Epoch 8/20\n",
            "3247/3247 [==============================] - 1s 233us/step - loss: 0.3911 - accuracy: 0.8572 - val_loss: 0.3960 - val_accuracy: 0.8571\n",
            "Epoch 9/20\n",
            "3247/3247 [==============================] - 1s 233us/step - loss: 0.3912 - accuracy: 0.8570 - val_loss: 0.3971 - val_accuracy: 0.8571\n",
            "Epoch 10/20\n",
            "3247/3247 [==============================] - 1s 231us/step - loss: 0.3894 - accuracy: 0.8573 - val_loss: 0.3957 - val_accuracy: 0.8570\n",
            "Epoch 11/20\n",
            "3247/3247 [==============================] - 1s 231us/step - loss: 0.3897 - accuracy: 0.8572 - val_loss: 0.3965 - val_accuracy: 0.8571\n",
            "Epoch 12/20\n",
            "3247/3247 [==============================] - 1s 234us/step - loss: 0.3905 - accuracy: 0.8570 - val_loss: 0.3959 - val_accuracy: 0.8571\n",
            "Epoch 13/20\n",
            "3247/3247 [==============================] - 1s 229us/step - loss: 0.3884 - accuracy: 0.8573 - val_loss: 0.3969 - val_accuracy: 0.8571\n",
            "Epoch 14/20\n",
            "3247/3247 [==============================] - 1s 228us/step - loss: 0.3901 - accuracy: 0.8573 - val_loss: 0.3947 - val_accuracy: 0.8568\n",
            "Epoch 15/20\n",
            "3247/3247 [==============================] - 1s 225us/step - loss: 0.3898 - accuracy: 0.8572 - val_loss: 0.3968 - val_accuracy: 0.8571\n",
            "Epoch 16/20\n",
            "3247/3247 [==============================] - 1s 224us/step - loss: 0.3899 - accuracy: 0.8571 - val_loss: 0.3951 - val_accuracy: 0.8570\n",
            "Epoch 17/20\n",
            "3247/3247 [==============================] - 1s 224us/step - loss: 0.3882 - accuracy: 0.8574 - val_loss: 0.3947 - val_accuracy: 0.8570\n",
            "Epoch 18/20\n",
            "3247/3247 [==============================] - 1s 225us/step - loss: 0.3894 - accuracy: 0.8569 - val_loss: 0.3947 - val_accuracy: 0.8571\n",
            "Epoch 19/20\n",
            "3247/3247 [==============================] - 1s 227us/step - loss: 0.3891 - accuracy: 0.8571 - val_loss: 0.3943 - val_accuracy: 0.8571\n",
            "Epoch 20/20\n",
            "3247/3247 [==============================] - 1s 225us/step - loss: 0.3888 - accuracy: 0.8574 - val_loss: 0.3943 - val_accuracy: 0.8568\n"
          ],
          "name": "stdout"
        }
      ]
    },
    {
      "cell_type": "code",
      "metadata": {
        "id": "gQLaUMEmkRHK",
        "colab_type": "code",
        "colab": {
          "base_uri": "https://localhost:8080/",
          "height": 67
        },
        "outputId": "075eac08-3716-49f6-ed56-89d7c5372910"
      },
      "source": [
        "Loss,Accuracy = model.evaluate(X_valid, y_valid)\n",
        "print(\"Loss :\", Loss)\n",
        "print(\"Accuracy:\",Accuracy)"
      ],
      "execution_count": null,
      "outputs": [
        {
          "output_type": "stream",
          "text": [
            "812/812 [==============================] - 0s 88us/step\n",
            "Loss : 0.3943132919630981\n",
            "Accuracy: 0.8567910194396973\n"
          ],
          "name": "stdout"
        }
      ]
    },
    {
      "cell_type": "code",
      "metadata": {
        "id": "-J7uBTc-m8lt",
        "colab_type": "code",
        "colab": {
          "base_uri": "https://localhost:8080/",
          "height": 34
        },
        "outputId": "31438a43-7f22-4914-bc6a-92114d6843f0"
      },
      "source": [
        "X_train1, X_valid1, y_train1, y_valid1 = train_test_split(X, Y, test_size=0.2)\n",
        "X_train1.shape, y_train1.shape, X_valid1.shape, y_valid1.shape"
      ],
      "execution_count": null,
      "outputs": [
        {
          "output_type": "execute_result",
          "data": {
            "text/plain": [
              "((3247, 1000), (3247, 7), (812, 1000), (812, 7))"
            ]
          },
          "metadata": {
            "tags": []
          },
          "execution_count": 11
        }
      ]
    },
    {
      "cell_type": "code",
      "metadata": {
        "id": "1nLFeK_gmN1y",
        "colab_type": "code",
        "colab": {
          "base_uri": "https://localhost:8080/",
          "height": 302
        },
        "outputId": "ee9d276f-6345-4992-96c8-d1df57d33ee2"
      },
      "source": [
        "model1 = Sequential()\n",
        "# # add embedding layer\n",
        "model1.add(Embedding(len(word_index), embedding_length, input_length=max_length))\n",
        "model1.add(LSTM(100, dropout_W=0.25))\n",
        "model1.add(Dense(7, activation='softmax'))\n",
        "model1.compile(loss='binary_crossentropy', optimizer='adam', metrics=['accuracy'])\n",
        "print(model1.summary())"
      ],
      "execution_count": null,
      "outputs": [
        {
          "output_type": "stream",
          "text": [
            "/usr/local/lib/python3.6/dist-packages/ipykernel_launcher.py:4: UserWarning: Update your `LSTM` call to the Keras 2 API: `LSTM(100, dropout=0.25)`\n",
            "  after removing the cwd from sys.path.\n"
          ],
          "name": "stderr"
        },
        {
          "output_type": "stream",
          "text": [
            "Model: \"sequential_2\"\n",
            "_________________________________________________________________\n",
            "Layer (type)                 Output Shape              Param #   \n",
            "=================================================================\n",
            "embedding_1 (Embedding)      (None, 1000, 64)          3532736   \n",
            "_________________________________________________________________\n",
            "lstm_3 (LSTM)                (None, 100)               66000     \n",
            "_________________________________________________________________\n",
            "dense_2 (Dense)              (None, 7)                 707       \n",
            "=================================================================\n",
            "Total params: 3,599,443\n",
            "Trainable params: 3,599,443\n",
            "Non-trainable params: 0\n",
            "_________________________________________________________________\n",
            "None\n"
          ],
          "name": "stdout"
        }
      ]
    },
    {
      "cell_type": "code",
      "metadata": {
        "id": "EAoJ4OrCoATA",
        "colab_type": "code",
        "colab": {
          "base_uri": "https://localhost:8080/",
          "height": 759
        },
        "outputId": "b3dd6972-1c37-4ed9-f5f5-6f98b53ed671"
      },
      "source": [
        "history1=model1.fit(X_train1, y_train1, epochs=20,verbose=True, validation_data=(X_valid1,y_valid1), batch_size=64)"
      ],
      "execution_count": null,
      "outputs": [
        {
          "output_type": "stream",
          "text": [
            "/usr/local/lib/python3.6/dist-packages/tensorflow/python/framework/indexed_slices.py:434: UserWarning: Converting sparse IndexedSlices to a dense Tensor of unknown shape. This may consume a large amount of memory.\n",
            "  \"Converting sparse IndexedSlices to a dense Tensor of unknown shape. \"\n"
          ],
          "name": "stderr"
        },
        {
          "output_type": "stream",
          "text": [
            "Train on 3247 samples, validate on 812 samples\n",
            "Epoch 1/20\n",
            "3247/3247 [==============================] - 76s 23ms/step - loss: 0.3954 - accuracy: 0.8573 - val_loss: 0.3531 - val_accuracy: 0.8628\n",
            "Epoch 2/20\n",
            "3247/3247 [==============================] - 75s 23ms/step - loss: 0.3109 - accuracy: 0.8665 - val_loss: 0.2987 - val_accuracy: 0.8753\n",
            "Epoch 3/20\n",
            "3247/3247 [==============================] - 75s 23ms/step - loss: 0.2268 - accuracy: 0.9009 - val_loss: 0.2072 - val_accuracy: 0.9127\n",
            "Epoch 4/20\n",
            "3247/3247 [==============================] - 75s 23ms/step - loss: 0.1277 - accuracy: 0.9522 - val_loss: 0.1440 - val_accuracy: 0.9467\n",
            "Epoch 5/20\n",
            "3247/3247 [==============================] - 76s 23ms/step - loss: 0.1086 - accuracy: 0.9611 - val_loss: 0.2078 - val_accuracy: 0.9189\n",
            "Epoch 6/20\n",
            "3247/3247 [==============================] - 75s 23ms/step - loss: 0.0894 - accuracy: 0.9694 - val_loss: 0.1436 - val_accuracy: 0.9456\n",
            "Epoch 7/20\n",
            "3247/3247 [==============================] - 76s 23ms/step - loss: 0.0424 - accuracy: 0.9889 - val_loss: 0.1186 - val_accuracy: 0.9562\n",
            "Epoch 8/20\n",
            "3247/3247 [==============================] - 75s 23ms/step - loss: 0.0239 - accuracy: 0.9933 - val_loss: 0.1348 - val_accuracy: 0.9580\n",
            "Epoch 9/20\n",
            "3247/3247 [==============================] - 80s 25ms/step - loss: 0.0315 - accuracy: 0.9913 - val_loss: 0.1301 - val_accuracy: 0.9548\n",
            "Epoch 10/20\n",
            "3247/3247 [==============================] - 75s 23ms/step - loss: 0.0098 - accuracy: 0.9979 - val_loss: 0.1264 - val_accuracy: 0.9597\n",
            "Epoch 11/20\n",
            "3247/3247 [==============================] - 76s 23ms/step - loss: 0.0089 - accuracy: 0.9980 - val_loss: 0.1344 - val_accuracy: 0.9576\n",
            "Epoch 12/20\n",
            "3247/3247 [==============================] - 76s 23ms/step - loss: 0.0052 - accuracy: 0.9989 - val_loss: 0.1493 - val_accuracy: 0.9544\n",
            "Epoch 13/20\n",
            "3247/3247 [==============================] - 75s 23ms/step - loss: 0.0036 - accuracy: 0.9994 - val_loss: 0.1304 - val_accuracy: 0.9609\n",
            "Epoch 14/20\n",
            "3247/3247 [==============================] - 76s 23ms/step - loss: 0.0060 - accuracy: 0.9986 - val_loss: 0.1530 - val_accuracy: 0.9500\n",
            "Epoch 15/20\n",
            "3247/3247 [==============================] - 76s 23ms/step - loss: 0.0071 - accuracy: 0.9987 - val_loss: 0.1399 - val_accuracy: 0.9595\n",
            "Epoch 16/20\n",
            "3247/3247 [==============================] - 75s 23ms/step - loss: 0.0016 - accuracy: 0.9998 - val_loss: 0.1359 - val_accuracy: 0.9606\n",
            "Epoch 17/20\n",
            "3247/3247 [==============================] - 76s 23ms/step - loss: 0.0045 - accuracy: 0.9989 - val_loss: 0.1307 - val_accuracy: 0.9643\n",
            "Epoch 18/20\n",
            "3247/3247 [==============================] - 76s 23ms/step - loss: 0.0017 - accuracy: 0.9997 - val_loss: 0.1454 - val_accuracy: 0.9615\n",
            "Epoch 19/20\n",
            "3247/3247 [==============================] - 76s 23ms/step - loss: 0.0015 - accuracy: 0.9997 - val_loss: 0.1395 - val_accuracy: 0.9615\n",
            "Epoch 20/20\n",
            "3247/3247 [==============================] - 75s 23ms/step - loss: 0.0187 - accuracy: 0.9964 - val_loss: 0.6602 - val_accuracy: 0.8728\n"
          ],
          "name": "stdout"
        }
      ]
    },
    {
      "cell_type": "code",
      "metadata": {
        "id": "fmBlxKhMvVI9",
        "colab_type": "code",
        "colab": {
          "base_uri": "https://localhost:8080/",
          "height": 67
        },
        "outputId": "02c83837-2838-4a9e-8a8b-f7c6c1654f19"
      },
      "source": [
        "Loss,Accuracy = model1.evaluate(X_valid1, y_valid1)\n",
        "print(\"Loss :\", Loss)\n",
        "print(\"Accuracy:\",Accuracy)"
      ],
      "execution_count": null,
      "outputs": [
        {
          "output_type": "stream",
          "text": [
            "812/812 [==============================] - 5s 6ms/step\n",
            "Loss : 0.6601728653085643\n",
            "Accuracy: 0.8728008270263672\n"
          ],
          "name": "stdout"
        }
      ]
    },
    {
      "cell_type": "code",
      "metadata": {
        "id": "MB1O15sYo3BM",
        "colab_type": "code",
        "colab": {
          "base_uri": "https://localhost:8080/",
          "height": 295
        },
        "outputId": "240dfdb6-3680-450a-ddbc-a6029c7a2804"
      },
      "source": [
        "plt.plot(history1.history['loss'])\n",
        "plt.plot(history1.history['val_loss'])\n",
        "plt.title('Train and validation loss')\n",
        "plt.xlabel('Number of epochs')\n",
        "plt.ylabel('Loss')\n",
        "plt.legend(['Train', 'Validation'], loc='upper right')\n",
        "plt.show()"
      ],
      "execution_count": null,
      "outputs": [
        {
          "output_type": "display_data",
          "data": {
            "image/png": "[encoded data removed]",
            "text/plain": [
              "<Figure size 432x288 with 1 Axes>"
            ]
          },
          "metadata": {
            "tags": [],
            "needs_background": "light"
          }
        }
      ]
    }
  ]
}