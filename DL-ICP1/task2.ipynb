{
 "cells": [
  {
   "cell_type": "code",
   "execution_count": 1,
   "metadata": {},
   "outputs": [
    {
     "name": "stdout",
     "output_type": "stream",
     "text": [
      "B    357\n",
      "M    212\n",
      "Name: diagnosis, dtype: int64\n",
      "Model: \"sequential\"\n",
      "_________________________________________________________________\n",
      "Layer (type)                 Output Shape              Param #   \n",
      "=================================================================\n",
      "dense (Dense)                (None, 20)                620       \n",
      "_________________________________________________________________\n",
      "dense_1 (Dense)              (None, 1)                 21        \n",
      "=================================================================\n",
      "Total params: 641\n",
      "Trainable params: 641\n",
      "Non-trainable params: 0\n",
      "_________________________________________________________________\n",
      "None\n",
      "5/5 [==============================] - 0s 2ms/step - loss: 0.2085 - accuracy: 0.9091\n",
      "[0.2085302472114563, 0.9090909361839294]\n"
     ]
    }
   ],
   "source": [
    "#Importing the libraries\n",
    "from sklearn.model_selection import train_test_split\n",
    "from sklearn.preprocessing import LabelEncoder\n",
    "from keras.models import Sequential\n",
    "from keras.layers.core import Dense\n",
    "\n",
    "# load dataset\n",
    "import pandas as pd\n",
    "dataset = pd.read_csv(\"breastcancer.csv\")\n",
    "\n",
    "# Features extraction\n",
    "X = dataset.iloc[:, 2:32].values\n",
    "y = dataset.iloc[:, 1].values\n",
    "\n",
    "print(dataset.iloc[:, 1].value_counts())\n",
    "\n",
    "# Encoding categorical data\n",
    "le = LabelEncoder()\n",
    "\n",
    "# Fit label encoder and return encoded labels M=1, B=0\n",
    "y = le.fit_transform(y)\n",
    "\n",
    "X_train, X_test, y_train, y_test = train_test_split(\n",
    "    X, y, test_size=0.25, random_state=0)\n",
    "\n",
    "# Model Implmentation\n",
    "model = Sequential()  # create model\n",
    "model.add(Dense(20, input_dim=30, activation='relu'))  # hidden layer\n",
    "model.add(Dense(1, activation='sigmoid'))  # output layer\n",
    "model.compile(loss='binary_crossentropy',\n",
    "                    optimizer='adam', metrics=['accuracy'])\n",
    "model.fit(X_train, y_train, epochs=100, verbose=0,\n",
    "                                     initial_epoch=0)\n",
    "\n",
    "print(model.summary())\n",
    "print(model.evaluate(X_test, y_test))\n"
   ]
  },
  {
   "cell_type": "code",
   "execution_count": null,
   "metadata": {},
   "outputs": [],
   "source": []
  }
 ],
 "metadata": {
  "kernelspec": {
   "display_name": "Python 3",
   "language": "python",
   "name": "python3"
  },
  "language_info": {
   "codemirror_mode": {
    "name": "ipython",
    "version": 3
   },
   "file_extension": ".py",
   "mimetype": "text/x-python",
   "name": "python",
   "nbconvert_exporter": "python",
   "pygments_lexer": "ipython3",
   "version": "3.7.7"
  }
 },
 "nbformat": 4,
 "nbformat_minor": 4
}
